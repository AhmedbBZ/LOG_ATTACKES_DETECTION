{
 "cells": [
  {
   "cell_type": "code",
   "execution_count": 1,
   "metadata": {},
   "outputs": [],
   "source": [
    "from pyngrok import ngrok\n",
    "ngrok.set_auth_token(\"2qJTHBHczhYinnSkFgZO45I1fEH_7B8AFCRaDNz9nfbA9PMZs\")  # Replace with your actual authtoken\n"
   ]
  },
  {
   "cell_type": "code",
   "execution_count": 2,
   "metadata": {},
   "outputs": [],
   "source": [
    "from flask import Flask, request, jsonify\n",
    "import joblib\n",
    "import numpy as np\n",
    "import threading"
   ]
  },
  {
   "cell_type": "code",
   "execution_count": 3,
   "metadata": {},
   "outputs": [],
   "source": [
    "\n",
    "clf=joblib.load(\"model.pkl\")\n",
    "vectorizer=joblib.load(\"vectorizer.pkl\")"
   ]
  },
  {
   "cell_type": "code",
   "execution_count": 4,
   "metadata": {},
   "outputs": [],
   "source": [
    "app = Flask(__name__)\n",
    "\n",
    "@app.route('/predict', methods=['POST'])\n",
    "def predict():\n",
    "    try:\n",
    "        data = request.get_json()  # Get data from request\n",
    "        feature_list = data['features']\n",
    "\n",
    "        # 4. Transform the test data using the loaded vectorizer\n",
    "        input_features_transform = vectorizer.transform(feature_list)\n",
    "\n",
    "        # 5. Make predictions on the test set using the loaded model\n",
    "        Log_Status=clf.predict(input_features_transform)\n",
    "\n",
    "        response = {\n",
    "            'log ': Log_Status[0]\n",
    "        }\n",
    "        return jsonify(response)\n",
    "\n",
    "    except Exception as e:\n",
    "        return jsonify({'error': str(e)}), 500\n"
   ]
  },
  {
   "cell_type": "code",
   "execution_count": 7,
   "metadata": {},
   "outputs": [
    {
     "name": "stdout",
     "output_type": "stream",
     "text": [
      "Flask app is running at NgrokTunnel: \"https://e864-160-159-46-85.ngrok-free.app\" -> \"http://localhost:5000\"\n",
      " * Serving Flask app '__main__'\n",
      " * Debug mode: off\n"
     ]
    },
    {
     "name": "stderr",
     "output_type": "stream",
     "text": [
      "WARNING: This is a development server. Do not use it in a production deployment. Use a production WSGI server instead.\n",
      " * Running on all addresses (0.0.0.0)\n",
      " * Running on http://127.0.0.1:5000\n",
      " * Running on http://192.168.87.226:5000\n",
      "Press CTRL+C to quit\n",
      "t=2024-12-18T21:10:07+0100 lvl=warn msg=\"failed to check for update\" obj=updater err=\"Post \\\"https://update.equinox.io/check\\\": context deadline exceeded\"\n",
      "127.0.0.1 - - [18/Dec/2024 21:13:24] \"POST /predict HTTP/1.1\" 200 -\n",
      "127.0.0.1 - - [18/Dec/2024 21:14:00] \"POST /predict HTTP/1.1\" 200 -\n",
      "127.0.0.1 - - [18/Dec/2024 21:14:04] \"POST /predict HTTP/1.1\" 200 -\n",
      "127.0.0.1 - - [18/Dec/2024 21:14:08] \"POST /predict HTTP/1.1\" 200 -\n",
      "127.0.0.1 - - [18/Dec/2024 21:22:14] \"POST /predict HTTP/1.1\" 200 -\n",
      "127.0.0.1 - - [18/Dec/2024 21:22:20] \"POST /predict HTTP/1.1\" 200 -\n"
     ]
    }
   ],
   "source": [
    "def run_app():\n",
    "    public_url = ngrok.connect(5000)\n",
    "    print(f\"Flask app is running at {public_url}\")\n",
    "    app.run(host='0.0.0.0', port=5000)\n",
    "\n",
    "thread = threading.Thread(target=run_app)\n",
    "thread.start()\n"
   ]
  },
  {
   "cell_type": "code",
   "execution_count": 13,
   "metadata": {},
   "outputs": [
    {
     "name": "stdout",
     "output_type": "stream",
     "text": [
      "3629\n",
      "['Suspicious script detected in user input: malicious_script.sh. XSS attack attempt blocked on page http://malicious.com.', 'Cross-Site Scripting (XSS)']\n",
      "{'log ': 'Cross-Site Scripting (XSS)'}\n"
     ]
    }
   ],
   "source": [
    "import requests\n",
    "import pandas as pd\n",
    "def  Features2():\n",
    "  import  random\n",
    "  df=pd.read_csv(\"log_dataset_Attackes_detection.csv\")\n",
    "  random_ligne = random.randint(1, 6709)\n",
    "  print(random_ligne)\n",
    "  print(df.iloc[random_ligne,:].to_list())\n",
    "  return df.iloc[random_ligne,:].to_list()\n",
    "public_url=\"https://e864-160-159-46-85.ngrok-free.app\"\n",
    "url = f'{public_url}/predict'\n",
    "data = {\n",
    "    \"features\": Features2()\n",
    "}\n",
    "\n",
    "response = requests.post(url, json=data)\n",
    "print(response.json())\n"
   ]
  }
 ],
 "metadata": {
  "kernelspec": {
   "display_name": "Python 3",
   "language": "python",
   "name": "python3"
  },
  "language_info": {
   "codemirror_mode": {
    "name": "ipython",
    "version": 3
   },
   "file_extension": ".py",
   "mimetype": "text/x-python",
   "name": "python",
   "nbconvert_exporter": "python",
   "pygments_lexer": "ipython3",
   "version": "3.12.3"
  }
 },
 "nbformat": 4,
 "nbformat_minor": 2
}

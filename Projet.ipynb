{
  "cells": [
    {
      "cell_type": "code",
      "execution_count": 1,
      "metadata": {
        "id": "RoIj0XSEsb14"
      },
      "outputs": [],
      "source": [
        "import numpy as np\n",
        "import pandas as pd\n",
        "import matplotlib.pyplot as plt\n",
        "import seaborn as sns\n",
        "from scipy.stats import norm\n",
        "from sklearn.impute import KNNImputer\n",
        "from sklearn.linear_model import LogisticRegression\n",
        "from sklearn.tree import DecisionTreeClassifier\n",
        "from sklearn.ensemble import RandomForestClassifier, GradientBoostingClassifier\n",
        "from sklearn.svm import SVC\n",
        "from sklearn.neighbors import KNeighborsClassifier\n",
        "from sklearn.metrics import accuracy_score\n",
        "from sklearn.model_selection import train_test_split\n",
        "from sklearn.naive_bayes import GaussianNB\n",
        "from sklearn.neural_network import MLPClassifier\n",
        "import xgboost as xgb\n",
        "import lightgbm as lgb\n",
        "from sklearn.linear_model import LinearRegression\n",
        "from sklearn.tree import DecisionTreeRegressor\n",
        "from sklearn.ensemble import RandomForestRegressor\n",
        "from sklearn.svm import SVR\n",
        "from sklearn.tree import DecisionTreeRegressor\n",
        "from sklearn.ensemble import RandomForestRegressor, GradientBoostingRegressor\n",
        "from xgboost import XGBRegressor\n",
        "from sklearn.metrics import mean_squared_error, r2_score\n",
        "from sklearn.metrics import confusion_matrix\n",
        "from sklearn.model_selection import cross_val_score\n",
        "from sklearn.ensemble import RandomForestClassifier\n",
        "from sklearn.model_selection import cross_val_score\n",
        "from imblearn.over_sampling import SMOTE\n",
        "from imblearn.combine import SMOTEENN\n",
        "from collections import Counter\n"
      ]
    },
    {
      "cell_type": "code",
      "execution_count": 2,
      "metadata": {
        "id": "75mSZc9RrDK5"
      },
      "outputs": [],
      "source": [
        "def fresh_data():\n",
        "  df=pd.read_csv(\"log_dataset.csv\")\n",
        "  return df"
      ]
    },
    {
      "cell_type": "code",
      "execution_count": 3,
      "metadata": {
        "colab": {
          "base_uri": "https://localhost:8080/",
          "height": 321
        },
        "id": "_Gh72rSMmtN5",
        "outputId": "c70325ee-97c7-409f-f3e0-f36842aa3c23"
      },
      "outputs": [
        {
          "name": "stdout",
          "output_type": "stream",
          "text": [
            "<class 'pandas.core.frame.DataFrame'>\n",
            "RangeIndex: 6708 entries, 0 to 6707\n",
            "Data columns (total 2 columns):\n",
            " #   Column  Non-Null Count  Dtype \n",
            "---  ------  --------------  ----- \n",
            " 0   log     6708 non-null   object\n",
            " 1   class   6708 non-null   object\n",
            "dtypes: object(2)\n",
            "memory usage: 104.9+ KB\n"
          ]
        }
      ],
      "source": [
        "df= fresh_data()\n",
        "df.info()"
      ]
    },
    {
      "cell_type": "code",
      "execution_count": 4,
      "metadata": {
        "id": "p9ofrq8WmuhA"
      },
      "outputs": [
        {
          "data": {
            "text/plain": [
              "class\n",
              "Benign                                  3707\n",
              "Brute Force Attack                       361\n",
              "Privilege Escalation                     287\n",
              "Cross-Site Request Forgery (CSRF)        275\n",
              "Malware and Ransomware                   249\n",
              "Man-in-the-Middle (MITM)                 247\n",
              "Cross-Site Scripting (XSS)               235\n",
              "SQL Injection                            226\n",
              "Distributed Denial of Service (DDoS)     211\n",
              "Phishing and Credential Harvesting       200\n",
              "Data Exfiltration                        169\n",
              "Insider Threats                          136\n",
              "Zero-Day Exploit                         120\n",
              "Remote Code Execution (RCE)              119\n",
              "Directory Traversal                      112\n",
              "Phishing via Malicious Links              54\n",
              "Name: count, dtype: int64"
            ]
          },
          "execution_count": 4,
          "metadata": {},
          "output_type": "execute_result"
        }
      ],
      "source": [
        "df[\"class\"].value_counts()"
      ]
    },
    {
      "cell_type": "code",
      "execution_count": 5,
      "metadata": {
        "id": "4qmR8k_kWVET"
      },
      "outputs": [],
      "source": [
        "from sklearn.feature_extraction.text import TfidfVectorizer\n",
        "# Initialize the vectorizer\n",
        "vectorizer = TfidfVectorizer(stop_words=\"english\", max_features=1000)\n",
        "\n",
        "# Fit the vectorizer on the log data and transform the logs into TF-IDF features\n",
        "X_tfidf = vectorizer.fit_transform(df[\"log\"])\n"
      ]
    },
    {
      "cell_type": "code",
      "execution_count": 6,
      "metadata": {
        "id": "ddcqPsnVq_NV"
      },
      "outputs": [],
      "source": [
        "def Splitting_Data(x,y):\n",
        "  X_train, X_test, y_train, y_test = train_test_split(x, y, test_size=0.2, random_state=42)\n",
        "  return X_train, X_test, y_train, y_test"
      ]
    },
    {
      "cell_type": "code",
      "execution_count": 7,
      "metadata": {
        "id": "fukQlkDcoAK7"
      },
      "outputs": [],
      "source": [
        "from sklearn.metrics import accuracy_score, f1_score, recall_score, classification_report\n",
        "list_model=[]\n",
        "def ml_models(X_train, X_test, y_train, y_test, models):\n",
        "    for model_name, model in models.items():\n",
        "        print(f\"Model: {model_name}\")\n",
        "\n",
        "        # Train the model\n",
        "        model.fit(X_train, y_train)\n",
        "\n",
        "        # Predictions on the test data\n",
        "        predictions_test = model.predict(X_test)\n",
        "\n",
        "        # Predictions on the train data\n",
        "        predictions_train = model.predict(X_train)\n",
        "\n",
        "        # Metrics for test data\n",
        "        accuracy_test = accuracy_score(y_test, predictions_test)\n",
        "        f1_test = f1_score(y_test, predictions_test, average='weighted')\n",
        "        recall_test = recall_score(y_test, predictions_test, average='weighted')\n",
        "\n",
        "        print(f\"Test Accuracy: {accuracy_test:.2f}\")\n",
        "        print(f\"Test F1 Score: {f1_test:.2f}\")\n",
        "        print(f\"Test Recall: {recall_test:.2f}\")\n",
        "        print(f\"Test Classification Report:\\n{classification_report(y_test, predictions_test)}\")\n",
        "\n",
        "        # Metrics for train data\n",
        "        accuracy_train = accuracy_score(y_train, predictions_train)\n",
        "        f1_train = f1_score(y_train, predictions_train, average='weighted')\n",
        "        recall_train = recall_score(y_train, predictions_train, average='weighted')\n",
        "\n",
        "        print(f\"Train Accuracy: {accuracy_train:.2f}\")\n",
        "        print(f\"Train F1 Score: {f1_train:.2f}\")\n",
        "        print(f\"Train Recall: {recall_train:.2f}\")\n",
        "        print(f\"Train Classification Report:\\n{classification_report(y_train, predictions_train)}\")\n",
        "        list_model.append(model)\n",
        "        print(\"\\n\" + \"=\"*50 + \"\\n\")\n",
        "        return list_model\n"
      ]
    },
    {
      "cell_type": "markdown",
      "metadata": {
        "id": "G6ijzRdcWjz3"
      },
      "source": [
        "# **Hybrid Technique for Imblanced Data : SMOTEENN**"
      ]
    },
    {
      "cell_type": "code",
      "execution_count": null,
      "metadata": {
        "id": "yvsH5VDHmzri"
      },
      "outputs": [],
      "source": [
        "from imblearn.combine import SMOTEENN\n",
        "\n",
        "# Initialize SMOTEENN\n",
        "smote_enn = SMOTEENN(random_state=42)\n",
        "\n",
        "# Fit SMOTEENN and resample the dataset\n",
        "X_resampled, y_resampled = smote_enn.fit_resample(X_tfidf, df[\"class\"])\n"
      ]
    },
    {
      "cell_type": "markdown",
      "metadata": {
        "id": "YZOOrmlLXdQP"
      },
      "source": [
        "# **Add noise**"
      ]
    },
    {
      "cell_type": "code",
      "execution_count": null,
      "metadata": {
        "id": "oHs3IidQvwVg"
      },
      "outputs": [],
      "source": [
        "def add_label_noise(df, column, noise_ratio=0.1):\n",
        "    \"\"\"\n",
        "    Adds noise to the labels by randomly flipping them.\n",
        "    :param df: DataFrame containing the data\n",
        "    :param column: Column containing the labels\n",
        "    :param noise_ratio: Percentage of labels to modify\n",
        "    :return: DataFrame with noisy labels\n",
        "    \"\"\"\n",
        "    df_noisy = df.copy()\n",
        "    n_samples = int(len(df) * noise_ratio)\n",
        "    indices_to_flip = random.sample(range(len(df)), n_samples)\n",
        "    unique_labels = df[column].unique()\n",
        "    for idx in indices_to_flip:\n",
        "        current_label = df_noisy.loc[idx, column]\n",
        "        df_noisy.loc[idx, column] = random.choice([label for label in unique_labels if label != current_label])\n",
        "    return df_noisy\n"
      ]
    },
    {
      "cell_type": "code",
      "execution_count": null,
      "metadata": {
        "id": "jXkG3I7Bvq2f"
      },
      "outputs": [],
      "source": [
        "import random\n",
        "\n",
        "df_noisy = add_label_noise(df, column=\"class\", noise_ratio=0.1)\n"
      ]
    },
    {
      "cell_type": "code",
      "execution_count": null,
      "metadata": {
        "id": "4sDwBc8jpgXF"
      },
      "outputs": [],
      "source": [
        "x=ml_models(Splitting_Data(X_resampled, y_resampled)[0], Splitting_Data(X_resampled, y_resampled)[1], Splitting_Data(X_resampled, y_resampled)[2], Splitting_Data(X_resampled, y_resampled)[3],models={\n",
        "\n",
        "    \"Logistic Regression\"         : LogisticRegression(max_iter=10000000),\n",
        "    \"K-Nearest Neighbors\"          : KNeighborsClassifier(n_neighbors=5),\n",
        "    \"Support Vector Machine\"    : SVC(),\n",
        "    \"Decision Tree\"             : DecisionTreeClassifier(max_depth=10, min_samples_split=10),\n",
        "    \"Random Forest\"              : RandomForestClassifier(max_depth=10, n_estimators=100),\n",
        "    \"Gradient Boosting\"            : GradientBoostingClassifier(),\n",
        "    \"Neural Network\"              : MLPClassifier(max_iter=10000, hidden_layer_sizes=(50, 50), learning_rate_init=0.01)\n",
        "  }\n",
        ")"
      ]
    },
    {
      "cell_type": "markdown",
      "metadata": {
        "id": "haYpFUgJX5jp"
      },
      "source": [
        "# **export Model:**"
      ]
    },
    {
      "cell_type": "code",
      "execution_count": null,
      "metadata": {
        "id": "-LEEnYYg1Mew"
      },
      "outputs": [],
      "source": [
        "import joblib\n",
        "\n",
        "joblib.dump(x[0],'model_finale.pkl')\n",
        "joblib.dump(vectorizer,\"vectorizer.pkl\")"
      ]
    },
    {
      "cell_type": "code",
      "execution_count": null,
      "metadata": {
        "id": "lvugmP4jxfxN"
      },
      "outputs": [],
      "source": []
    }
  ],
  "metadata": {
    "colab": {
      "provenance": []
    },
    "kernelspec": {
      "display_name": "Python 3",
      "name": "python3"
    },
    "language_info": {
      "codemirror_mode": {
        "name": "ipython",
        "version": 3
      },
      "file_extension": ".py",
      "mimetype": "text/x-python",
      "name": "python",
      "nbconvert_exporter": "python",
      "pygments_lexer": "ipython3",
      "version": "3.11.4"
    }
  },
  "nbformat": 4,
  "nbformat_minor": 0
}
